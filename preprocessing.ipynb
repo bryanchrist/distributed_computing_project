{
 "cells": [
  {
   "cell_type": "markdown",
   "id": "a67461b6-e1a2-4db2-96ee-0a2f0583094e",
   "metadata": {},
   "source": [
    "# Preprocessing and Data Splitting/Sampling\n",
    "This notebook includes all the steps necessary to preprocess, sample and split the COVID Teacher Latin America data into training and test sets."
   ]
  },
  {
   "cell_type": "markdown",
   "id": "16a22a31-5068-4a26-b1e6-f0588a092099",
   "metadata": {},
   "source": [
    "# Load in Dataset and Explore Schema"
   ]
  },
  {
   "cell_type": "code",
   "execution_count": 1,
   "id": "3bb964dd-4b0c-4a08-aff7-9a7039fd87d7",
   "metadata": {},
   "outputs": [],
   "source": [
    "from pyspark.sql import *\n",
    "DATA_FILEPATH = 'data/clean_data.csv'\n",
    "\n",
    "spark = SparkSession \\\n",
    "    .builder \\\n",
    "    .appName(\"Preprocessing\") \\\n",
    "    .getOrCreate()\n",
    "\n",
    "df = spark.read.csv(DATA_FILEPATH,  inferSchema=True, header = True)\n",
    "from pyspark.sql.functions import when"
   ]
  },
  {
   "cell_type": "code",
   "execution_count": 2,
   "id": "61d3663c-31a4-4a2a-b23d-3a5dfcb643e2",
   "metadata": {},
   "outputs": [
    {
     "name": "stdout",
     "output_type": "stream",
     "text": [
      "+---+----+---+------------+---------------+------------------+------------------+--------------+-------------+-----------------+---------------+-----------------------+----------------------+-------------------+----------+-------+-------------+---------+-----------+---------------------+--------------------+-----------------------+-----------------+------------+-------------+------------+--------------+--------------+---------------+---------------+--------------+------------------+-----------------+------------------+-----------------+-----------------+---+---------------------+-------------+---------+-----------------+-------+---------------+----------------------------------------------------------------------------------------+---+-----------------------+---------+----------+-----------+-----------+\n",
      "|_c0| Age|SES|RuralVsUrban|EducationDegree|SecondaryVsPrimary|TeachPublicVsOther|YearsAsTeacher|EmployedVsNot|PastCOVIDpositive|COVIDvaccinated|PrePandemicChronIllness|PrePandemicMentIllness|PrePandemicNeuroDis|Depression|Anxiety|OverallHealth|COVIDfear|RelatImprov|WorkloadNowVsPreCOVID|ResourceSatisfaction|SufficientCOVIDmeasures|MonthsOnlineTeach|EducProblems|BehavProblems|EmotProblems|SocialProblems|FamilyProblems|StudentProblems|DiffOnlineTeach|InstructAdjust|BenefitOnlineTeach|TotOnlineTraining|BurnoutEmotExhaust|BurnoutDepersonal|BurnoutPerFulfill|Man|Women/Trans-Nonbinary|Not Partnered|Partnered|Bachelor's Degree|Diploma|Master's Degree|Non-University Studies (e.g., Vocational Training, Early Childhood Education Technician)|PhD|Postdoctoral Fellowship|0-5 years|6-11 years|12-16 years|17-18 years|\n",
      "+---+----+---+------------+---------------+------------------+------------------+--------------+-------------+-----------------+---------------+-----------------------+----------------------+-------------------+----------+-------+-------------+---------+-----------+---------------------+--------------------+-----------------------+-----------------+------------+-------------+------------+--------------+--------------+---------------+---------------+--------------+------------------+-----------------+------------------+-----------------+-----------------+---+---------------------+-------------+---------+-----------------+-------+---------------+----------------------------------------------------------------------------------------+---+-----------------------+---------+----------+-----------+-----------+\n",
      "|  0|35.0|4.0|         0.0|            0.0|               1.0|               1.0|           1.0|          0.0|              0.0|            1.0|                    0.0|                   0.0|                0.0|       2.0|    2.0|          4.0|      3.0|        6.0|                  2.0|                 6.0|                    5.0|              8.0|         1.0|          0.0|         0.0|           0.0|           0.0|            1.0|           18.0|          18.0|              20.0|              2.0|               7.0|              1.0|             40.0|  1|                    0|            1|        0|                0|      0|              0|                                                                                       1|  0|                      0|        0|         0|          0|          1|\n",
      "|  1|23.0|2.0|         0.0|            0.0|               0.0|               1.0|           1.0|          1.0|              0.0|            1.0|                    0.0|                   0.0|                0.0|       3.0|    4.0|          3.0|      0.0|        6.0|                  3.0|                 3.0|                    4.0|             12.0|         1.0|          1.0|         1.0|           1.0|           1.0|            5.0|           16.0|          16.0|              11.0|              1.0|              26.0|              5.0|             37.0|  0|                    1|            1|        0|                0|      0|              0|                                                                                       1|  0|                      0|        0|         1|          0|          0|\n",
      "+---+----+---+------------+---------------+------------------+------------------+--------------+-------------+-----------------+---------------+-----------------------+----------------------+-------------------+----------+-------+-------------+---------+-----------+---------------------+--------------------+-----------------------+-----------------+------------+-------------+------------+--------------+--------------+---------------+---------------+--------------+------------------+-----------------+------------------+-----------------+-----------------+---+---------------------+-------------+---------+-----------------+-------+---------------+----------------------------------------------------------------------------------------+---+-----------------------+---------+----------+-----------+-----------+\n",
      "only showing top 2 rows\n",
      "\n"
     ]
    }
   ],
   "source": [
    "df.show(2)"
   ]
  },
  {
   "cell_type": "code",
   "execution_count": 3,
   "id": "eba5ad19-9ecb-4935-bd6d-1314efeca978",
   "metadata": {},
   "outputs": [
    {
     "name": "stdout",
     "output_type": "stream",
     "text": [
      "root\n",
      " |-- _c0: integer (nullable = true)\n",
      " |-- Age: double (nullable = true)\n",
      " |-- SES: double (nullable = true)\n",
      " |-- RuralVsUrban: double (nullable = true)\n",
      " |-- EducationDegree: double (nullable = true)\n",
      " |-- SecondaryVsPrimary: double (nullable = true)\n",
      " |-- TeachPublicVsOther: double (nullable = true)\n",
      " |-- YearsAsTeacher: double (nullable = true)\n",
      " |-- EmployedVsNot: double (nullable = true)\n",
      " |-- PastCOVIDpositive: double (nullable = true)\n",
      " |-- COVIDvaccinated: double (nullable = true)\n",
      " |-- PrePandemicChronIllness: double (nullable = true)\n",
      " |-- PrePandemicMentIllness: double (nullable = true)\n",
      " |-- PrePandemicNeuroDis: double (nullable = true)\n",
      " |-- Depression: double (nullable = true)\n",
      " |-- Anxiety: double (nullable = true)\n",
      " |-- OverallHealth: double (nullable = true)\n",
      " |-- COVIDfear: double (nullable = true)\n",
      " |-- RelatImprov: double (nullable = true)\n",
      " |-- WorkloadNowVsPreCOVID: double (nullable = true)\n",
      " |-- ResourceSatisfaction: double (nullable = true)\n",
      " |-- SufficientCOVIDmeasures: double (nullable = true)\n",
      " |-- MonthsOnlineTeach: double (nullable = true)\n",
      " |-- EducProblems: double (nullable = true)\n",
      " |-- BehavProblems: double (nullable = true)\n",
      " |-- EmotProblems: double (nullable = true)\n",
      " |-- SocialProblems: double (nullable = true)\n",
      " |-- FamilyProblems: double (nullable = true)\n",
      " |-- StudentProblems: double (nullable = true)\n",
      " |-- DiffOnlineTeach: double (nullable = true)\n",
      " |-- InstructAdjust: double (nullable = true)\n",
      " |-- BenefitOnlineTeach: double (nullable = true)\n",
      " |-- TotOnlineTraining: double (nullable = true)\n",
      " |-- BurnoutEmotExhaust: double (nullable = true)\n",
      " |-- BurnoutDepersonal: double (nullable = true)\n",
      " |-- BurnoutPerFulfill: double (nullable = true)\n",
      " |-- Man: integer (nullable = true)\n",
      " |-- Women/Trans-Nonbinary: integer (nullable = true)\n",
      " |-- Not Partnered: integer (nullable = true)\n",
      " |-- Partnered: integer (nullable = true)\n",
      " |-- Bachelor's Degree: integer (nullable = true)\n",
      " |-- Diploma: integer (nullable = true)\n",
      " |-- Master's Degree: integer (nullable = true)\n",
      " |-- Non-University Studies (e.g., Vocational Training, Early Childhood Education Technician): integer (nullable = true)\n",
      " |-- PhD: integer (nullable = true)\n",
      " |-- Postdoctoral Fellowship: integer (nullable = true)\n",
      " |-- 0-5 years: integer (nullable = true)\n",
      " |-- 6-11 years: integer (nullable = true)\n",
      " |-- 12-16 years: integer (nullable = true)\n",
      " |-- 17-18 years: integer (nullable = true)\n",
      "\n"
     ]
    }
   ],
   "source": [
    "df.printSchema()"
   ]
  },
  {
   "cell_type": "markdown",
   "id": "8a75ef14-fe3f-4b8c-acbc-848e87859c77",
   "metadata": {},
   "source": [
    "# Drop Unnecessary Variables and Rename Non-University Studies\n",
    "These variables are collinear with other variables, so we will drop them. "
   ]
  },
  {
   "cell_type": "code",
   "execution_count": 4,
   "id": "a255d452-9bc8-4642-9d26-67d2631257ca",
   "metadata": {},
   "outputs": [],
   "source": [
    "df = df.drop(\"Women/Trans-Nonbinary\")\n",
    "df = df.drop(\"Not Partnered\")\n",
    "df = df.drop('StudentProblems')\n",
    "df = df.drop('_c0')\n",
    "df = df.withColumnRenamed('Non-University Studies (e.g., Vocational Training, Early Childhood Education Technician)', 'Non_university_studies')"
   ]
  },
  {
   "cell_type": "markdown",
   "id": "c17e0c26-585c-4367-ab12-427350cb0dba",
   "metadata": {},
   "source": [
    "# Binning Outcome Variables"
   ]
  },
  {
   "cell_type": "code",
   "execution_count": 5,
   "id": "ba17794f-cce4-4dfc-89b4-cb613efadd2f",
   "metadata": {},
   "outputs": [],
   "source": [
    "df = df.withColumn('Depression', when(df['Depression'] >= 3, 1).otherwise(0))\n",
    "df = df.withColumn('Anxiety', when(df['Anxiety'] >= 3, 1).otherwise(0))"
   ]
  },
  {
   "cell_type": "code",
   "execution_count": 6,
   "id": "6442e44f-9792-4358-9267-e867e6f62154",
   "metadata": {},
   "outputs": [
    {
     "name": "stdout",
     "output_type": "stream",
     "text": [
      "+-------+\n",
      "|Anxiety|\n",
      "+-------+\n",
      "|      0|\n",
      "|      1|\n",
      "|      1|\n",
      "|      1|\n",
      "|      0|\n",
      "|      0|\n",
      "|      0|\n",
      "|      1|\n",
      "|      1|\n",
      "|      0|\n",
      "+-------+\n",
      "only showing top 10 rows\n",
      "\n"
     ]
    }
   ],
   "source": [
    "Anxiety = df.select(df['Anxiety'])\n",
    "Anxiety.show(10)"
   ]
  },
  {
   "cell_type": "code",
   "execution_count": 7,
   "id": "b9ee7f5f-de42-4bec-a221-f4cc5ac3d08c",
   "metadata": {},
   "outputs": [
    {
     "name": "stdout",
     "output_type": "stream",
     "text": [
      "+----------+\n",
      "|Depression|\n",
      "+----------+\n",
      "|         0|\n",
      "|         1|\n",
      "|         0|\n",
      "|         1|\n",
      "|         0|\n",
      "|         0|\n",
      "|         0|\n",
      "|         0|\n",
      "|         0|\n",
      "|         0|\n",
      "+----------+\n",
      "only showing top 10 rows\n",
      "\n"
     ]
    }
   ],
   "source": [
    "Depression = df.select(df['Depression'])\n",
    "Depression.show(10)"
   ]
  },
  {
   "cell_type": "markdown",
   "id": "78d33500-10b5-4fa3-8c6c-4e4904de31d7",
   "metadata": {},
   "source": [
    "# Sampling and Splitting"
   ]
  },
  {
   "cell_type": "code",
   "execution_count": 8,
   "id": "6abfa6a0-ee49-411a-a590-431821386247",
   "metadata": {},
   "outputs": [
    {
     "name": "stdout",
     "output_type": "stream",
     "text": [
      "+-------+-----+\n",
      "|Anxiety|count|\n",
      "+-------+-----+\n",
      "|      1|  737|\n",
      "|      0| 1267|\n",
      "+-------+-----+\n",
      "\n"
     ]
    }
   ],
   "source": [
    "df.groupBy('Anxiety').count().show()"
   ]
  },
  {
   "cell_type": "code",
   "execution_count": 9,
   "id": "f3abc326-f457-48b1-8cc3-8e2755d02297",
   "metadata": {},
   "outputs": [
    {
     "name": "stdout",
     "output_type": "stream",
     "text": [
      "+----------+-----+\n",
      "|Depression|count|\n",
      "+----------+-----+\n",
      "|         1|  279|\n",
      "|         0| 1725|\n",
      "+----------+-----+\n",
      "\n"
     ]
    }
   ],
   "source": [
    "df.groupBy('Depression').count().show()"
   ]
  },
  {
   "cell_type": "code",
   "execution_count": 10,
   "id": "7ad9b038-64fb-4288-8753-72a16347d2ea",
   "metadata": {},
   "outputs": [],
   "source": [
    "train, test = df.randomSplit([0.85, 0.15], 314)\n",
    "def dynamic_upsample_spark(df, target, positive_label, negative_label):\n",
    "    positive_count = df.filter(df[f'{target}']==positive_label).count()\n",
    "    negative_count = df.filter(df[f'{target}']==negative_label).count()\n",
    "    total = df.count()\n",
    "    positive_fraction = positive_count/total\n",
    "    negative_fraction = negative_count/total\n",
    "    pos_to_neg = positive_count/negative_count #when neg>pos, so upsample pos (or downsample neg)\n",
    "    neg_to_pos = negative_count/positive_count #when neg<pos, so downsample pos\n",
    "    if positive_fraction < negative_fraction: #upsample pos\n",
    "        df2 = df.filter(df[f\"{target}\"]==positive_label).sample(fraction = neg_to_pos, withReplacement=True, seed=1)\n",
    "        df_final = df.filter(df[f'{target}']==negative_label).union(df2) \n",
    "    if positive_fraction > negative_fraction: #upsample neg\n",
    "        df2 = df.filter(df[f\"{target}\"]==negative_label).sample(fraction = pos_to_neg, withReplacement=True, seed=1)\n",
    "        df_final = df.filter(df[f'{target}']==positive_label).union(df2) \n",
    "    return df_final"
   ]
  },
  {
   "cell_type": "code",
   "execution_count": 11,
   "id": "86c9c5dc-f572-45ac-8825-8d244917d00f",
   "metadata": {},
   "outputs": [
    {
     "name": "stdout",
     "output_type": "stream",
     "text": [
      "+-------+-----+\n",
      "|Anxiety|count|\n",
      "+-------+-----+\n",
      "|      0| 1077|\n",
      "|      1| 1051|\n",
      "+-------+-----+\n",
      "\n"
     ]
    }
   ],
   "source": [
    "#Resample Anxiety and prove it worked\n",
    "Anxiety_df = dynamic_upsample_spark(train, 'Anxiety', 1, 0)\n",
    "Anxiety_df.groupBy('Anxiety').count().show()"
   ]
  },
  {
   "cell_type": "code",
   "execution_count": 12,
   "id": "3ca153f1-b00b-4c3a-85d8-c1fb406b809b",
   "metadata": {},
   "outputs": [
    {
     "name": "stdout",
     "output_type": "stream",
     "text": [
      "+----------+-----+\n",
      "|Depression|count|\n",
      "+----------+-----+\n",
      "|         0| 1452|\n",
      "|         1| 1440|\n",
      "+----------+-----+\n",
      "\n"
     ]
    }
   ],
   "source": [
    "#Resample Depression and prove it worked\n",
    "Depression_df = dynamic_upsample_spark(train, 'Depression', 1, 0)\n",
    "Depression_df.groupBy('Depression').count().show()"
   ]
  },
  {
   "cell_type": "markdown",
   "id": "a56b3172-669b-4d67-881b-723d6714dbcc",
   "metadata": {},
   "source": [
    "# Export Dataframes to CSV Files"
   ]
  },
  {
   "cell_type": "code",
   "execution_count": 13,
   "id": "a8076d96-14fd-417d-81c7-48ab5c98ef55",
   "metadata": {},
   "outputs": [],
   "source": [
    "Anxiety_df.toPandas().to_csv('data/anxiety.csv')\n",
    "Depression_df.toPandas().to_csv('data/depression.csv')\n",
    "test.toPandas().to_csv('data/test.csv')"
   ]
  }
 ],
 "metadata": {
  "kernelspec": {
   "display_name": "Python 3",
   "language": "python",
   "name": "python3"
  },
  "language_info": {
   "codemirror_mode": {
    "name": "ipython",
    "version": 3
   },
   "file_extension": ".py",
   "mimetype": "text/x-python",
   "name": "python",
   "nbconvert_exporter": "python",
   "pygments_lexer": "ipython3",
   "version": "3.8.8"
  }
 },
 "nbformat": 4,
 "nbformat_minor": 5
}
