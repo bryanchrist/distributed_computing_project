{
 "cells": [
  {
   "cell_type": "code",
   "execution_count": 1,
   "id": "3bb964dd-4b0c-4a08-aff7-9a7039fd87d7",
   "metadata": {},
   "outputs": [],
   "source": [
    "from pyspark.sql import *\n",
    "DATA_FILEPATH = 'data/clean_data.csv'\n",
    "\n",
    "spark = SparkSession \\\n",
    "    .builder \\\n",
    "    .appName(\"Preprocessing\") \\\n",
    "    .getOrCreate()\n",
    "\n",
    "df = spark.read.csv(DATA_FILEPATH,  inferSchema=True, header = True)"
   ]
  },
  {
   "cell_type": "markdown",
   "id": "c17e0c26-585c-4367-ab12-427350cb0dba",
   "metadata": {},
   "source": [
    "# Binning Outcome Variables"
   ]
  }
 ],
 "metadata": {
  "kernelspec": {
   "display_name": "Python 3",
   "language": "python",
   "name": "python3"
  },
  "language_info": {
   "codemirror_mode": {
    "name": "ipython",
    "version": 3
   },
   "file_extension": ".py",
   "mimetype": "text/x-python",
   "name": "python",
   "nbconvert_exporter": "python",
   "pygments_lexer": "ipython3",
   "version": "3.8.8"
  }
 },
 "nbformat": 4,
 "nbformat_minor": 5
}
