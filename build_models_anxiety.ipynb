{
 "cells": [
  {
   "cell_type": "markdown",
   "id": "89c1af0c-0125-4bea-abab-5654483a5666",
   "metadata": {},
   "source": [
    "# Build Anxiety Models \n",
    "This notebook contains all the code necessary to build, cross validate, and evaluate our three models for Anxiety. "
   ]
  },
  {
   "cell_type": "markdown",
   "id": "3ffa166c-6641-41c2-a4d1-103bb39aa47f",
   "metadata": {},
   "source": [
    "# Load in Data and Explore Schema"
   ]
  },
  {
   "cell_type": "code",
   "execution_count": 1,
   "id": "f8fae1bf-8475-4249-8be9-0288d4d914ff",
   "metadata": {},
   "outputs": [],
   "source": [
    "from pyspark.sql import *\n",
    "DATA_FILEPATH = 'data/anxiety.csv'\n",
    "\n",
    "spark = SparkSession \\\n",
    "    .builder \\\n",
    "    .appName(\"Preprocessing\") \\\n",
    "    .getOrCreate()\n",
    "\n",
    "df = spark.read.csv(DATA_FILEPATH,  inferSchema=True, header = True)"
   ]
  },
  {
   "cell_type": "code",
   "execution_count": 2,
   "id": "2715ac7a-1f37-4191-ac44-03c141a73bc9",
   "metadata": {},
   "outputs": [
    {
     "name": "stdout",
     "output_type": "stream",
     "text": [
      "root\n",
      " |-- _c0: integer (nullable = true)\n",
      " |-- Age: double (nullable = true)\n",
      " |-- SES: double (nullable = true)\n",
      " |-- RuralVsUrban: double (nullable = true)\n",
      " |-- EducationDegree: double (nullable = true)\n",
      " |-- SecondaryVsPrimary: double (nullable = true)\n",
      " |-- TeachPublicVsOther: double (nullable = true)\n",
      " |-- YearsAsTeacher: double (nullable = true)\n",
      " |-- EmployedVsNot: double (nullable = true)\n",
      " |-- PastCOVIDpositive: double (nullable = true)\n",
      " |-- COVIDvaccinated: double (nullable = true)\n",
      " |-- PrePandemicChronIllness: double (nullable = true)\n",
      " |-- PrePandemicMentIllness: double (nullable = true)\n",
      " |-- PrePandemicNeuroDis: double (nullable = true)\n",
      " |-- Depression: integer (nullable = true)\n",
      " |-- Anxiety: integer (nullable = true)\n",
      " |-- OverallHealth: double (nullable = true)\n",
      " |-- COVIDfear: double (nullable = true)\n",
      " |-- RelatImprov: double (nullable = true)\n",
      " |-- WorkloadNowVsPreCOVID: double (nullable = true)\n",
      " |-- ResourceSatisfaction: double (nullable = true)\n",
      " |-- SufficientCOVIDmeasures: double (nullable = true)\n",
      " |-- MonthsOnlineTeach: double (nullable = true)\n",
      " |-- EducProblems: double (nullable = true)\n",
      " |-- BehavProblems: double (nullable = true)\n",
      " |-- EmotProblems: double (nullable = true)\n",
      " |-- SocialProblems: double (nullable = true)\n",
      " |-- FamilyProblems: double (nullable = true)\n",
      " |-- DiffOnlineTeach: double (nullable = true)\n",
      " |-- InstructAdjust: double (nullable = true)\n",
      " |-- BenefitOnlineTeach: double (nullable = true)\n",
      " |-- TotOnlineTraining: double (nullable = true)\n",
      " |-- BurnoutEmotExhaust: double (nullable = true)\n",
      " |-- BurnoutDepersonal: double (nullable = true)\n",
      " |-- BurnoutPerFulfill: double (nullable = true)\n",
      " |-- Man: integer (nullable = true)\n",
      " |-- Partnered: integer (nullable = true)\n",
      " |-- Bachelor's Degree: integer (nullable = true)\n",
      " |-- Diploma: integer (nullable = true)\n",
      " |-- Master's Degree: integer (nullable = true)\n",
      " |-- Non_university_studies: integer (nullable = true)\n",
      " |-- PhD: integer (nullable = true)\n",
      " |-- Postdoctoral Fellowship: integer (nullable = true)\n",
      " |-- 0-5 years: integer (nullable = true)\n",
      " |-- 6-11 years: integer (nullable = true)\n",
      " |-- 12-16 years: integer (nullable = true)\n",
      " |-- 17-18 years: integer (nullable = true)\n",
      "\n"
     ]
    }
   ],
   "source": [
    "df.printSchema()"
   ]
  },
  {
   "cell_type": "markdown",
   "id": "e00366d9-340c-4442-81b7-38b66ec3284d",
   "metadata": {},
   "source": [
    "# Train/Validation/Test Split"
   ]
  },
  {
   "cell_type": "code",
   "execution_count": 3,
   "id": "47a30a2d-7105-4604-a761-8eaa99a7956d",
   "metadata": {},
   "outputs": [],
   "source": [
    "train, test = df.randomSplit([0.85, 0.15], 314)"
   ]
  },
  {
   "cell_type": "markdown",
   "id": "6607b35b-8b55-49b7-b191-189093d6d18b",
   "metadata": {},
   "source": [
    "# Benchmark Model: Logistic Regression"
   ]
  },
  {
   "cell_type": "code",
   "execution_count": 47,
   "id": "2d131513-d3b8-4bd7-941e-507057ffb1fb",
   "metadata": {},
   "outputs": [],
   "source": [
    "from pyspark.sql import SparkSession\n",
    "from pyspark.ml import Pipeline\n",
    "from pyspark.ml.classification import LogisticRegression\n",
    "from pyspark.ml.evaluation import BinaryClassificationEvaluator\n",
    "from pyspark.ml.tuning import CrossValidator, ParamGridBuilder\n",
    "from pyspark.ml.feature import VectorAssembler\n",
    "from pyspark.ml.feature import StandardScaler\n",
    "from pyspark.ml import Pipeline\n",
    "from pyspark.ml.evaluation import MulticlassClassificationEvaluator\n",
    "from pyspark.ml.evaluation import BinaryClassificationEvaluator"
   ]
  },
  {
   "cell_type": "code",
   "execution_count": 5,
   "id": "e263f054-6654-4384-94a2-3d900277efdb",
   "metadata": {},
   "outputs": [
    {
     "data": {
      "text/plain": [
       "['Age',\n",
       " 'SES',\n",
       " 'RuralVsUrban',\n",
       " 'EducationDegree',\n",
       " 'SecondaryVsPrimary',\n",
       " 'TeachPublicVsOther',\n",
       " 'YearsAsTeacher',\n",
       " 'EmployedVsNot',\n",
       " 'PastCOVIDpositive',\n",
       " 'COVIDvaccinated',\n",
       " 'PrePandemicChronIllness',\n",
       " 'PrePandemicMentIllness',\n",
       " 'PrePandemicNeuroDis',\n",
       " 'Depression',\n",
       " 'OverallHealth',\n",
       " 'COVIDfear',\n",
       " 'RelatImprov',\n",
       " 'WorkloadNowVsPreCOVID',\n",
       " 'ResourceSatisfaction',\n",
       " 'SufficientCOVIDmeasures',\n",
       " 'MonthsOnlineTeach',\n",
       " 'EducProblems',\n",
       " 'BehavProblems',\n",
       " 'EmotProblems',\n",
       " 'SocialProblems',\n",
       " 'FamilyProblems',\n",
       " 'DiffOnlineTeach',\n",
       " 'InstructAdjust',\n",
       " 'BenefitOnlineTeach',\n",
       " 'TotOnlineTraining',\n",
       " 'BurnoutEmotExhaust',\n",
       " 'BurnoutDepersonal',\n",
       " 'BurnoutPerFulfill',\n",
       " 'Man',\n",
       " 'Partnered',\n",
       " \"Bachelor's Degree\",\n",
       " 'Diploma',\n",
       " \"Master's Degree\",\n",
       " 'Non_university_studies',\n",
       " 'PhD',\n",
       " 'Postdoctoral Fellowship',\n",
       " '0-5 years',\n",
       " '6-11 years',\n",
       " '12-16 years',\n",
       " '17-18 years']"
      ]
     },
     "execution_count": 5,
     "metadata": {},
     "output_type": "execute_result"
    }
   ],
   "source": [
    "column_list = train.columns\n",
    "column_list.remove('Anxiety')\n",
    "column_list.remove('_c0')\n",
    "column_list"
   ]
  },
  {
   "cell_type": "code",
   "execution_count": 11,
   "id": "c8819e96-0845-4f30-a1ff-20fe9d816286",
   "metadata": {},
   "outputs": [],
   "source": [
    "assembler = VectorAssembler(inputCols=column_list,\n",
    "                            outputCol=\"features\")\n",
    "\n",
    "scaler = StandardScaler(inputCol=\"features\", outputCol=\"scaledFeatures\")\n",
    "\n",
    "train = train.withColumnRenamed('Anxiety', 'label')\n",
    "\n",
    "lr = LogisticRegression(labelCol='label',\n",
    "                        featuresCol='scaledFeatures')\n",
    "\n",
    "pipeline = Pipeline(stages = [assembler, scaler, lr])\n",
    "\n",
    "paramGrid = ParamGridBuilder() \\\n",
    "    .addGrid(lr.elasticNetParam, [0, .2, .4, .5, .6, .8, 1]) \\\n",
    "    .addGrid(lr.regParam, [0.1, 0.01, .001]) \\\n",
    "    .build()\n",
    "\n",
    "# Fit the model\n",
    "crossval = CrossValidator(estimator=pipeline,\n",
    "                          estimatorParamMaps=paramGrid,\n",
    "                          evaluator=BinaryClassificationEvaluator(),\n",
    "                          numFolds=4)\n",
    "\n",
    "cvModel = crossval.setParallelism(4).fit(train) # train 4 models in parallel"
   ]
  },
  {
   "cell_type": "code",
   "execution_count": 36,
   "id": "d3f172b0-745b-401c-a9a0-4304745486b9",
   "metadata": {},
   "outputs": [
    {
     "name": "stdout",
     "output_type": "stream",
     "text": [
      "LogisticRegression_865107c52f99__elasticNetParam: 1.0\n",
      "LogisticRegression_865107c52f99__regParam: 0.01\n"
     ]
    }
   ],
   "source": [
    "import numpy as np\n",
    "best_params = cvModel.getEstimatorParamMaps()[np.argmax(cvModel.avgMetrics)]\n",
    "for k, v in best_params.items():\n",
    "    print(f\"{k}: {v}\")"
   ]
  },
  {
   "cell_type": "code",
   "execution_count": 12,
   "id": "1887be5c-eb4c-4b5b-aff7-d253dadfbbb1",
   "metadata": {},
   "outputs": [],
   "source": [
    "test = test.withColumnRenamed('Anxiety', 'label')\n",
    "prediction = cvModel.transform(test)"
   ]
  },
  {
   "cell_type": "code",
   "execution_count": 56,
   "id": "37f17e13-aa9a-4f02-80e9-561cb4794d61",
   "metadata": {},
   "outputs": [
    {
     "name": "stdout",
     "output_type": "stream",
     "text": [
      "Accuracy: 0.7175572519083969\n",
      "Precision: 0.6930232558139535\n",
      "Recall: 0.7680412371134021\n",
      "F1 Score: 0.716941784517797\n",
      "AUROC: 0.7181914728280578\n"
     ]
    }
   ],
   "source": [
    "# set up evaluator\n",
    "evaluator = MulticlassClassificationEvaluator(predictionCol=\"prediction\",\n",
    "                                          labelCol=\"label\")\n",
    "evaluator_2 = BinaryClassificationEvaluator(rawPredictionCol=\"prediction\",\n",
    "                                          labelCol=\"label\",\n",
    "                                          metricName=\"areaUnderROC\")\n",
    "#Evaluate Metrics\n",
    "accuracy = evaluator.evaluate(prediction, {evaluator.metricName: \"accuracy\"})\n",
    "precision = evaluator.evaluate(prediction, {evaluator.metricName: \"precisionByLabel\"})\n",
    "recall = evaluator.evaluate(prediction, {evaluator.metricName: \"recallByLabel\"})\n",
    "f1_score = evaluator.evaluate(prediction, {evaluator.metricName: \"f1\"})\n",
    "auc = evaluator_2.evaluate(prediction)\n",
    "#confusion_matrix = evaluator.evaluate(prediction, {evaluator.metricName: \"confusionMatrix\"})\n",
    "\n",
    "#Print Results\n",
    "print(f\"Accuracy: {accuracy}\")\n",
    "print(f\"Precision: {precision}\")\n",
    "print(f\"Recall: {recall}\")\n",
    "print(f\"F1 Score: {f1_score}\")\n",
    "print(f\"AUROC: {auc}\")\n",
    "#print(f\"Confusion Matrix:\\n{confusion_matrix}\")"
   ]
  },
  {
   "cell_type": "markdown",
   "id": "b77ada38-e17c-4ae7-8742-3ddd559d1597",
   "metadata": {},
   "source": [
    "# Random Forest"
   ]
  },
  {
   "cell_type": "code",
   "execution_count": 57,
   "id": "e8d3595f-65f4-449a-b38d-088fbed88b2d",
   "metadata": {},
   "outputs": [],
   "source": [
    "from pyspark.ml.classification import RandomForestClassifier"
   ]
  },
  {
   "cell_type": "code",
   "execution_count": 58,
   "id": "90c95ea0-3cd8-4170-a7a3-5d51aebd66a4",
   "metadata": {},
   "outputs": [],
   "source": [
    "assembler = VectorAssembler(inputCols=column_list,\n",
    "                            outputCol=\"features\")\n",
    "\n",
    "scaler = StandardScaler(inputCol=\"features\", outputCol=\"scaledFeatures\")\n",
    "\n",
    "rf = RandomForestClassifier(labelCol='label',\n",
    "                        featuresCol='scaledFeatures')\n",
    "\n",
    "pipeline = Pipeline(stages = [assembler, scaler, rf])\n",
    "\n",
    "paramGrid = ParamGridBuilder() \\\n",
    "    .addGrid(rf.maxDepth, [1, 5, 10, 15]) \\\n",
    "    .addGrid(rf.numTrees, [10, 15, 20, 25, 30, 35, 40, 45]) \\\n",
    "    .build()\n",
    "\n",
    "# Fit the model\n",
    "crossval = CrossValidator(estimator=pipeline,\n",
    "                          estimatorParamMaps=paramGrid,\n",
    "                          evaluator=BinaryClassificationEvaluator(),\n",
    "                          numFolds=4)\n",
    "\n",
    "rfModel = crossval.setParallelism(4).fit(train) # train 4 models in parallel"
   ]
  },
  {
   "cell_type": "code",
   "execution_count": 59,
   "id": "17a314dd-aa9f-441c-8f39-d48d5752db36",
   "metadata": {},
   "outputs": [
    {
     "name": "stdout",
     "output_type": "stream",
     "text": [
      "RandomForestClassifier_e51927cd83c4__maxDepth: 15\n",
      "RandomForestClassifier_e51927cd83c4__numTrees: 40\n"
     ]
    }
   ],
   "source": [
    "import numpy as np\n",
    "best_params = rfModel.getEstimatorParamMaps()[np.argmax(rfModel.avgMetrics)]\n",
    "for k, v in best_params.items():\n",
    "    print(f\"{k}: {v}\")"
   ]
  },
  {
   "cell_type": "code",
   "execution_count": 129,
   "id": "7434544d-25fb-409e-9023-8a57d4db8c8a",
   "metadata": {},
   "outputs": [
    {
     "name": "stdout",
     "output_type": "stream",
     "text": [
      "Param set 1 Avg Metrics: 0.7502279252272457\n",
      "  maxDepth: 1\n",
      "  numTrees: 10\n",
      "\n",
      "Param set 2 Avg Metrics: 0.7753240768211531\n",
      "  maxDepth: 1\n",
      "  numTrees: 15\n",
      "\n",
      "Param set 3 Avg Metrics: 0.7874249720602038\n",
      "  maxDepth: 1\n",
      "  numTrees: 20\n",
      "\n",
      "Param set 4 Avg Metrics: 0.7868984956949058\n",
      "  maxDepth: 1\n",
      "  numTrees: 25\n",
      "\n",
      "Param set 5 Avg Metrics: 0.7892783366964724\n",
      "  maxDepth: 1\n",
      "  numTrees: 30\n",
      "\n",
      "Param set 6 Avg Metrics: 0.7866882587905141\n",
      "  maxDepth: 1\n",
      "  numTrees: 35\n",
      "\n",
      "Param set 7 Avg Metrics: 0.7834728504678502\n",
      "  maxDepth: 1\n",
      "  numTrees: 40\n",
      "\n",
      "Param set 8 Avg Metrics: 0.7869202019144231\n",
      "  maxDepth: 1\n",
      "  numTrees: 45\n",
      "\n",
      "Param set 9 Avg Metrics: 0.8049769568277458\n",
      "  maxDepth: 5\n",
      "  numTrees: 10\n",
      "\n",
      "Param set 10 Avg Metrics: 0.8161205422387199\n",
      "  maxDepth: 5\n",
      "  numTrees: 15\n",
      "\n",
      "Param set 11 Avg Metrics: 0.81519853718124\n",
      "  maxDepth: 5\n",
      "  numTrees: 20\n",
      "\n",
      "Param set 12 Avg Metrics: 0.8193333617284725\n",
      "  maxDepth: 5\n",
      "  numTrees: 25\n",
      "\n",
      "Param set 13 Avg Metrics: 0.8186075074103067\n",
      "  maxDepth: 5\n",
      "  numTrees: 30\n",
      "\n",
      "Param set 14 Avg Metrics: 0.823850295893187\n",
      "  maxDepth: 5\n",
      "  numTrees: 35\n",
      "\n",
      "Param set 15 Avg Metrics: 0.8190812904846573\n",
      "  maxDepth: 5\n",
      "  numTrees: 40\n",
      "\n",
      "Param set 16 Avg Metrics: 0.8210187722384147\n",
      "  maxDepth: 5\n",
      "  numTrees: 45\n",
      "\n",
      "Param set 17 Avg Metrics: 0.8750443666955768\n",
      "  maxDepth: 10\n",
      "  numTrees: 10\n",
      "\n",
      "Param set 18 Avg Metrics: 0.8769717154828857\n",
      "  maxDepth: 10\n",
      "  numTrees: 15\n",
      "\n",
      "Param set 19 Avg Metrics: 0.8837915900123292\n",
      "  maxDepth: 10\n",
      "  numTrees: 20\n",
      "\n",
      "Param set 20 Avg Metrics: 0.8900582866868713\n",
      "  maxDepth: 10\n",
      "  numTrees: 25\n",
      "\n",
      "Param set 21 Avg Metrics: 0.8896442204962688\n",
      "  maxDepth: 10\n",
      "  numTrees: 30\n",
      "\n",
      "Param set 22 Avg Metrics: 0.8962407500691347\n",
      "  maxDepth: 10\n",
      "  numTrees: 35\n",
      "\n",
      "Param set 23 Avg Metrics: 0.8919111079720232\n",
      "  maxDepth: 10\n",
      "  numTrees: 40\n",
      "\n",
      "Param set 24 Avg Metrics: 0.892835147190445\n",
      "  maxDepth: 10\n",
      "  numTrees: 45\n",
      "\n",
      "Param set 25 Avg Metrics: 0.8897060800051646\n",
      "  maxDepth: 15\n",
      "  numTrees: 10\n",
      "\n",
      "Param set 26 Avg Metrics: 0.9009200374511256\n",
      "  maxDepth: 15\n",
      "  numTrees: 15\n",
      "\n",
      "Param set 27 Avg Metrics: 0.9025878968499672\n",
      "  maxDepth: 15\n",
      "  numTrees: 20\n",
      "\n",
      "Param set 28 Avg Metrics: 0.9117733472575238\n",
      "  maxDepth: 15\n",
      "  numTrees: 25\n",
      "\n",
      "Param set 29 Avg Metrics: 0.9102648514802127\n",
      "  maxDepth: 15\n",
      "  numTrees: 30\n",
      "\n",
      "Param set 30 Avg Metrics: 0.9143539577145354\n",
      "  maxDepth: 15\n",
      "  numTrees: 35\n",
      "\n",
      "Param set 31 Avg Metrics: 0.9149034891303609\n",
      "  maxDepth: 15\n",
      "  numTrees: 40\n",
      "\n",
      "Param set 32 Avg Metrics: 0.9148074132095259\n",
      "  maxDepth: 15\n",
      "  numTrees: 45\n",
      "\n"
     ]
    }
   ],
   "source": [
    "metrics = rfModel.avgMetrics\n",
    "all_params = rfModel.getEstimatorParamMaps()\n",
    "params= []\n",
    "for i in range(0, len(all_params)):\n",
    "    param = all_params[i]\n",
    "    for k, v in param.items():\n",
    "        params.append({f\"{k}\": f\"{v}\"})     \n",
    "for i in range(0, len(metrics)):\n",
    "    s = f'Param set {i+1} Avg Metrics: {metrics[i]}\\n'\n",
    "    params = all_params[i]\n",
    "    for k, v in params.items():\n",
    "#         kname = str(k).split('__')[-1]\n",
    "        s+= f\"  {k.name}: {v}\\n\"\n",
    "#         print(k.name)\n",
    "    print(s)"
   ]
  },
  {
   "cell_type": "markdown",
   "id": "6a52166c-f332-4357-86ac-ec17d92056f0",
   "metadata": {},
   "source": [
    "rf_prediction = rfModel.transform(test)"
   ]
  },
  {
   "cell_type": "code",
   "execution_count": 63,
   "id": "8f2414d8-43a7-4d55-bade-da3c98c169b7",
   "metadata": {},
   "outputs": [
    {
     "name": "stdout",
     "output_type": "stream",
     "text": [
      "Accuracy: 0.8371501272264631\n",
      "Precision: 0.8735632183908046\n",
      "Recall: 0.7835051546391752\n",
      "F1 Score: 0.8366207889152324\n",
      "AUROC: 0.8364761954100399\n"
     ]
    }
   ],
   "source": [
    "# set up evaluator\n",
    "evaluator = MulticlassClassificationEvaluator(predictionCol=\"prediction\",\n",
    "                                          labelCol=\"label\")\n",
    "evaluator_2 = BinaryClassificationEvaluator(rawPredictionCol=\"prediction\",\n",
    "                                          labelCol=\"label\",\n",
    "                                          metricName=\"areaUnderROC\")\n",
    "#Evaluate Metrics\n",
    "accuracy = evaluator.evaluate(rf_prediction, {evaluator.metricName: \"accuracy\"})\n",
    "precision = evaluator.evaluate(rf_prediction, {evaluator.metricName: \"precisionByLabel\"})\n",
    "recall = evaluator.evaluate(rf_prediction, {evaluator.metricName: \"recallByLabel\"})\n",
    "f1_score = evaluator.evaluate(rf_prediction, {evaluator.metricName: \"f1\"})\n",
    "auc = evaluator_2.evaluate(rf_prediction)\n",
    "\n",
    "#Print Results\n",
    "print(f\"Accuracy: {accuracy}\")\n",
    "print(f\"Precision: {precision}\")\n",
    "print(f\"Recall: {recall}\")\n",
    "print(f\"F1 Score: {f1_score}\")\n",
    "print(f\"AUROC: {auc}\")\n",
    "#print(f\"Confusion Matrix:\\n{confusion_matrix}\")"
   ]
  },
  {
   "cell_type": "markdown",
   "id": "b30a5ba5-5721-49ed-9fb7-76c65a642d09",
   "metadata": {},
   "source": [
    "# MLP Model"
   ]
  },
  {
   "cell_type": "code",
   "execution_count": 72,
   "id": "d2eaecdc-e596-46e4-97b7-4d21ca9b0502",
   "metadata": {},
   "outputs": [],
   "source": [
    "from pyspark.ml.classification import MultilayerPerceptronClassifier"
   ]
  },
  {
   "cell_type": "code",
   "execution_count": 77,
   "id": "7833a575-d2d6-4f14-9714-af0119415c47",
   "metadata": {},
   "outputs": [],
   "source": [
    "layers = [[len(column_list), k, k, 2] for k in [50, 75, 100]]\n",
    "assembler = VectorAssembler(inputCols=column_list,\n",
    "                            outputCol=\"features\")\n",
    "\n",
    "scaler = StandardScaler(inputCol=\"features\", outputCol=\"scaledFeatures\")\n",
    "\n",
    "\n",
    "mlp = MultilayerPerceptronClassifier(labelCol='label', featuresCol='scaledFeatures', maxIter=1000, \n",
    "                                     blockSize=128, seed=1234, solver = 'gd')\n",
    "\n",
    "pipeline = Pipeline(stages = [assembler, scaler, mlp])\n",
    "\n",
    "paramGrid = ParamGridBuilder() \\\n",
    "    .addGrid(mlp.layers, layers)\\\n",
    "    .addGrid(mlp.stepSize, [.001, .005, .01, .05])\\\n",
    "    .build()\n",
    "\n",
    "# Fit the model\n",
    "crossval = CrossValidator(estimator=pipeline,\n",
    "                          estimatorParamMaps=paramGrid,\n",
    "                          evaluator=BinaryClassificationEvaluator(),\n",
    "                          numFolds=4)\n",
    "\n",
    "# train the model\n",
    "mlpModel = crossval.setParallelism(6).fit(train) # train 4 models in parallel"
   ]
  },
  {
   "cell_type": "code",
   "execution_count": 78,
   "id": "3528dd53-0d36-4e0c-a61f-9e94f2e418fb",
   "metadata": {},
   "outputs": [
    {
     "name": "stdout",
     "output_type": "stream",
     "text": [
      "MultilayerPerceptronClassifier_a00f1e87da6c__layers: [45, 75, 75, 2]\n",
      "MultilayerPerceptronClassifier_a00f1e87da6c__stepSize: 0.05\n"
     ]
    }
   ],
   "source": [
    "import numpy as np\n",
    "best_params = mlpModel.getEstimatorParamMaps()[np.argmax(mlpModel.avgMetrics)]\n",
    "for k, v in best_params.items():\n",
    "    print(f\"{k}: {v}\")"
   ]
  },
  {
   "cell_type": "code",
   "execution_count": 79,
   "id": "674f710b-7d76-4576-ad46-36359697209a",
   "metadata": {},
   "outputs": [],
   "source": [
    "mlp_prediction = mlpModel.transform(test)"
   ]
  },
  {
   "cell_type": "code",
   "execution_count": 80,
   "id": "2574e262-2973-4dda-9e7e-35730c30e34d",
   "metadata": {},
   "outputs": [
    {
     "name": "stdout",
     "output_type": "stream",
     "text": [
      "Accuracy: 0.7201017811704835\n",
      "Precision: 0.7038834951456311\n",
      "Recall: 0.7474226804123711\n",
      "F1 Score: 0.7199495049374416\n",
      "AUROC: 0.7204450085478942\n"
     ]
    }
   ],
   "source": [
    "# set up evaluator\n",
    "evaluator = MulticlassClassificationEvaluator(predictionCol=\"prediction\",\n",
    "                                          labelCol=\"label\")\n",
    "evaluator_2 = BinaryClassificationEvaluator(rawPredictionCol=\"prediction\",\n",
    "                                          labelCol=\"label\",\n",
    "                                          metricName=\"areaUnderROC\")\n",
    "#Evaluate Metrics\n",
    "accuracy = evaluator.evaluate(mlp_prediction, {evaluator.metricName: \"accuracy\"})\n",
    "precision = evaluator.evaluate(mlp_prediction, {evaluator.metricName: \"precisionByLabel\"})\n",
    "recall = evaluator.evaluate(mlp_prediction, {evaluator.metricName: \"recallByLabel\"})\n",
    "f1_score = evaluator.evaluate(mlp_prediction, {evaluator.metricName: \"f1\"})\n",
    "auc = evaluator_2.evaluate(mlp_prediction)\n",
    "\n",
    "#Print Results\n",
    "print(f\"Accuracy: {accuracy}\")\n",
    "print(f\"Precision: {precision}\")\n",
    "print(f\"Recall: {recall}\")\n",
    "print(f\"F1 Score: {f1_score}\")\n",
    "print(f\"AUROC: {auc}\")\n",
    "#print(f\"Confusion Matrix:\\n{confusion_matrix}\")"
   ]
  },
  {
   "cell_type": "code",
   "execution_count": null,
   "id": "043b1fce-6c39-483a-a014-098040a41c8a",
   "metadata": {},
   "outputs": [],
   "source": []
  }
 ],
 "metadata": {
  "kernelspec": {
   "display_name": "Python 3",
   "language": "python",
   "name": "python3"
  },
  "language_info": {
   "codemirror_mode": {
    "name": "ipython",
    "version": 3
   },
   "file_extension": ".py",
   "mimetype": "text/x-python",
   "name": "python",
   "nbconvert_exporter": "python",
   "pygments_lexer": "ipython3",
   "version": "3.8.8"
  }
 },
 "nbformat": 4,
 "nbformat_minor": 5
}
